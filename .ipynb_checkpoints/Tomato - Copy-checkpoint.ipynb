{
 "cells": [
  {
   "cell_type": "code",
   "execution_count": 1,
   "id": "4b142cfd",
   "metadata": {},
   "outputs": [],
   "source": [
    "import os\n",
    "import numpy as np\n",
    "import tensorflow as tf\n",
    "from tensorflow.keras.preprocessing.image import ImageDataGenerator\n",
    "from tensorflow.keras.applications import MobileNet\n",
    "from tensorflow.keras.layers import Dense, GlobalAveragePooling2D\n",
    "from tensorflow.keras.models import Model, Sequential\n",
    "from tensorflow.keras import layers\n",
    "from sklearn.metrics import confusion_matrix, accuracy_score, precision_score, recall_score, f1_score\n",
    "import matplotlib.pyplot as plt\n",
    "import seaborn as sns"
   ]
  },
  {
   "cell_type": "code",
   "execution_count": 2,
   "id": "5b681113",
   "metadata": {},
   "outputs": [],
   "source": [
    "# Define directories\n",
    "train_dir = \"C:\\\\Users\\\\User\\\\Desktop\\\\Plant_disease_7CROPS\\\\Tomato\\\\Train\"\n",
    "test_dir = \"C:\\\\Users\\\\User\\\\Desktop\\\\Plant_disease_7CROPS\\\\Tomato\\\\Test\"\n",
    "validation_dir = \"C:\\\\Users\\\\User\\\\Desktop\\\\Plant_disease_7CROPS\\\\Tomato\\\\Validation\"\n"
   ]
  },
  {
   "cell_type": "code",
   "execution_count": 3,
   "id": "5334316e",
   "metadata": {},
   "outputs": [
    {
     "name": "stdout",
     "output_type": "stream",
     "text": [
      "Found 14529 images belonging to 10 classes.\n",
      "Found 77 images belonging to 10 classes.\n",
      "Found 2489 images belonging to 10 classes.\n"
     ]
    }
   ],
   "source": [
    "# Define the image size\n",
    "img_size = (150, 150)\n",
    "batch_size = 32\n",
    "\n",
    "# Count the number of classes\n",
    "num_classes = len(os.listdir(train_dir))\n",
    "\n",
    "# Define the data generators\n",
    "train_datagen = ImageDataGenerator(rescale=1./255)\n",
    "validation_datagen = ImageDataGenerator(rescale=1./255)\n",
    "test_datagen = ImageDataGenerator(rescale=1./255)\n",
    "\n",
    "train_generator = train_datagen.flow_from_directory(\n",
    "    train_dir,\n",
    "    target_size=img_size,\n",
    "    batch_size=batch_size,\n",
    "    class_mode='categorical'\n",
    ")\n",
    "\n",
    "validation_generator = validation_datagen.flow_from_directory(\n",
    "    validation_dir,\n",
    "    target_size=img_size,\n",
    "    batch_size=batch_size,\n",
    "    class_mode='categorical'\n",
    ")\n",
    "\n",
    "test_generator = test_datagen.flow_from_directory(\n",
    "    test_dir,\n",
    "    target_size=img_size,\n",
    "    batch_size=batch_size,\n",
    "    class_mode='categorical',\n",
    "    shuffle=False\n",
    ")\n"
   ]
  },
  {
   "cell_type": "code",
   "execution_count": null,
   "id": "2e6ef88d",
   "metadata": {},
   "outputs": [
    {
     "name": "stdout",
     "output_type": "stream",
     "text": [
      "WARNING:tensorflow:`input_shape` is undefined or non-square, or `rows` is not in [128, 160, 192, 224]. Weights for input shape (224, 224) will be loaded as the default.\n",
      "Epoch 1/25\n",
      "455/455 [==============================] - 94s 202ms/step - loss: 0.5148 - accuracy: 0.8380 - val_loss: 7.0958 - val_accuracy: 0.1299\n",
      "Epoch 2/25\n",
      " 33/455 [=>............................] - ETA: 1:06 - loss: 0.2456 - accuracy: 0.9261"
     ]
    }
   ],
   "source": [
    "# MobileNet Model\n",
    "base_model = MobileNet(weights='imagenet', include_top=False)\n",
    "\n",
    "x = base_model.output\n",
    "x = GlobalAveragePooling2D()(x)\n",
    "x = Dense(1024, activation='relu')(x)\n",
    "predictions = Dense(num_classes, activation='softmax')(x)\n",
    "\n",
    "mobilenet_model = Model(inputs=base_model.input, outputs=predictions)\n",
    "\n",
    "for layer in base_model.layers:\n",
    "    layer.trainable = False\n",
    "\n",
    "mobilenet_model.compile(optimizer='adam', loss='categorical_crossentropy', metrics=['accuracy'])\n",
    "\n",
    "mobilenet_history = mobilenet_model.fit(\n",
    "    train_generator,\n",
    "    epochs=25,\n",
    "    validation_data=validation_generator\n",
    ")\n",
    "\n",
    "mobilenet_evaluation = mobilenet_model.evaluate(test_generator)\n",
    "print(\"MobileNet Test Accuracy:\", mobilenet_evaluation[1])"
   ]
  },
  {
   "cell_type": "code",
   "execution_count": null,
   "id": "a5e985a2",
   "metadata": {},
   "outputs": [],
   "source": [
    "# CNN Model from Scratch\n",
    "from tensorflow.keras.layers import Dense, GlobalAveragePooling2D, Conv2D, MaxPooling2D, Flatten\n",
    "cnn_model = Sequential([\n",
    "    Conv2D(32, (3, 3), activation='relu', input_shape=(150, 150, 3)),\n",
    "    MaxPooling2D((2, 2)),\n",
    "    Conv2D(64, (3, 3), activation='relu'),\n",
    "    MaxPooling2D((2, 2)),\n",
    "    Conv2D(128, (3, 3), activation='relu'),\n",
    "    MaxPooling2D((2, 2)),\n",
    "    Flatten(),\n",
    "    Dense(512, activation='relu'),\n",
    "    Dense(num_classes, activation='softmax')\n",
    "])\n",
    "\n",
    "cnn_model.compile(optimizer='adam', loss='categorical_crossentropy', metrics=['accuracy'])\n",
    "\n",
    "cnn_history = cnn_model.fit(\n",
    "    train_generator,\n",
    "    epochs=25,\n",
    "    validation_data=validation_generator\n",
    ")\n",
    "\n",
    "cnn_evaluation = cnn_model.evaluate(test_generator)\n",
    "print(\"CNN Test Accuracy:\", cnn_evaluation[1])"
   ]
  },
  {
   "cell_type": "code",
   "execution_count": null,
   "id": "ba6beac7",
   "metadata": {},
   "outputs": [],
   "source": [
    "# Confusion matrix for MobileNet\n",
    "mobilenet_predictions = mobilenet_model.predict(test_generator)\n",
    "mobilenet_pred_labels = np.argmax(mobilenet_predictions, axis=1)\n",
    "mobilenet_true_labels = test_generator.classes\n",
    "\n",
    "mobilenet_conf_matrix = confusion_matrix(mobilenet_true_labels, mobilenet_pred_labels)\n",
    "\n",
    "# Confusion matrix for CNN from scratch\n",
    "cnn_predictions = cnn_model.predict(test_generator)\n",
    "cnn_pred_labels = np.argmax(cnn_predictions, axis=1)\n",
    "\n",
    "cnn_conf_matrix = confusion_matrix(mobilenet_true_labels, cnn_pred_labels)\n",
    "\n",
    "# Plot confusion matrices\n",
    "plt.figure(figsize=(12, 6))\n",
    "\n",
    "plt.subplot(1, 2, 1)\n",
    "sns.heatmap(mobilenet_conf_matrix, annot=True, fmt='d', cmap='Blues', xticklabels=test_generator.class_indices.keys(), yticklabels=test_generator.class_indices.keys())\n",
    "plt.title('MobileNet Confusion Matrix')\n",
    "plt.xlabel('Predicted labels')\n",
    "plt.ylabel('True labels')\n",
    "\n",
    "plt.subplot(1, 2, 2)\n",
    "sns.heatmap(cnn_conf_matrix, annot=True, fmt='d', cmap='Blues', xticklabels=test_generator.class_indices.keys(), yticklabels=test_generator.class_indices.keys())\n",
    "plt.title('CNN Confusion Matrix')\n",
    "plt.xlabel('Predicted labels')\n",
    "plt.ylabel('True labels')\n",
    "\n",
    "plt.tight_layout()\n",
    "plt.show()\n"
   ]
  },
  {
   "cell_type": "code",
   "execution_count": null,
   "id": "08ab55e7",
   "metadata": {},
   "outputs": [],
   "source": [
    "# Print the summary of the CNN model\n",
    "print(cnn_model.summary())\n"
   ]
  }
 ],
 "metadata": {
  "kernelspec": {
   "display_name": "Python 3 (ipykernel)",
   "language": "python",
   "name": "python3"
  },
  "language_info": {
   "codemirror_mode": {
    "name": "ipython",
    "version": 3
   },
   "file_extension": ".py",
   "mimetype": "text/x-python",
   "name": "python",
   "nbconvert_exporter": "python",
   "pygments_lexer": "ipython3",
   "version": "3.11.5"
  }
 },
 "nbformat": 4,
 "nbformat_minor": 5
}
